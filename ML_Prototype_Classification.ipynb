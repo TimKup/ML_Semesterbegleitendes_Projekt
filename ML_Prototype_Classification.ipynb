{
 "cells": [
  {
   "cell_type": "code",
   "execution_count": 3,
   "metadata": {},
   "outputs": [],
   "source": [
    "import pandas as pd\n",
    "import numpy as np\n",
    "import matplotlib.pyplot as plt\n",
    "import os\n",
    "import glob\n"
   ]
  },
  {
   "cell_type": "code",
   "execution_count": 53,
   "metadata": {},
   "outputs": [
    {
     "name": "stderr",
     "output_type": "stream",
     "text": [
      "/var/folders/6v/c_tj3qkn27j7hp8kcrrn95080000gn/T/ipykernel_28362/588955016.py:18: FutureWarning: The frame.append method is deprecated and will be removed from pandas in a future version. Use pandas.concat instead.\n",
      "  df_combined = df_combined.append(df, ignore_index=True)\n",
      "/var/folders/6v/c_tj3qkn27j7hp8kcrrn95080000gn/T/ipykernel_28362/588955016.py:18: FutureWarning: The frame.append method is deprecated and will be removed from pandas in a future version. Use pandas.concat instead.\n",
      "  df_combined = df_combined.append(df, ignore_index=True)\n",
      "/var/folders/6v/c_tj3qkn27j7hp8kcrrn95080000gn/T/ipykernel_28362/588955016.py:18: FutureWarning: The frame.append method is deprecated and will be removed from pandas in a future version. Use pandas.concat instead.\n",
      "  df_combined = df_combined.append(df, ignore_index=True)\n",
      "/var/folders/6v/c_tj3qkn27j7hp8kcrrn95080000gn/T/ipykernel_28362/588955016.py:18: FutureWarning: The frame.append method is deprecated and will be removed from pandas in a future version. Use pandas.concat instead.\n",
      "  df_combined = df_combined.append(df, ignore_index=True)\n",
      "/var/folders/6v/c_tj3qkn27j7hp8kcrrn95080000gn/T/ipykernel_28362/588955016.py:18: FutureWarning: The frame.append method is deprecated and will be removed from pandas in a future version. Use pandas.concat instead.\n",
      "  df_combined = df_combined.append(df, ignore_index=True)\n",
      "/var/folders/6v/c_tj3qkn27j7hp8kcrrn95080000gn/T/ipykernel_28362/588955016.py:18: FutureWarning: The frame.append method is deprecated and will be removed from pandas in a future version. Use pandas.concat instead.\n",
      "  df_combined = df_combined.append(df, ignore_index=True)\n",
      "/var/folders/6v/c_tj3qkn27j7hp8kcrrn95080000gn/T/ipykernel_28362/588955016.py:27: FutureWarning: The frame.append method is deprecated and will be removed from pandas in a future version. Use pandas.concat instead.\n",
      "  df_test = df_test.append(df_ttest, ignore_index=True)\n",
      "/var/folders/6v/c_tj3qkn27j7hp8kcrrn95080000gn/T/ipykernel_28362/588955016.py:27: FutureWarning: The frame.append method is deprecated and will be removed from pandas in a future version. Use pandas.concat instead.\n",
      "  df_test = df_test.append(df_ttest, ignore_index=True)\n",
      "/var/folders/6v/c_tj3qkn27j7hp8kcrrn95080000gn/T/ipykernel_28362/588955016.py:27: FutureWarning: The frame.append method is deprecated and will be removed from pandas in a future version. Use pandas.concat instead.\n",
      "  df_test = df_test.append(df_ttest, ignore_index=True)\n",
      "/var/folders/6v/c_tj3qkn27j7hp8kcrrn95080000gn/T/ipykernel_28362/588955016.py:27: FutureWarning: The frame.append method is deprecated and will be removed from pandas in a future version. Use pandas.concat instead.\n",
      "  df_test = df_test.append(df_ttest, ignore_index=True)\n",
      "/var/folders/6v/c_tj3qkn27j7hp8kcrrn95080000gn/T/ipykernel_28362/588955016.py:27: FutureWarning: The frame.append method is deprecated and will be removed from pandas in a future version. Use pandas.concat instead.\n",
      "  df_test = df_test.append(df_ttest, ignore_index=True)\n",
      "/var/folders/6v/c_tj3qkn27j7hp8kcrrn95080000gn/T/ipykernel_28362/588955016.py:27: FutureWarning: The frame.append method is deprecated and will be removed from pandas in a future version. Use pandas.concat instead.\n",
      "  df_test = df_test.append(df_ttest, ignore_index=True)\n",
      "/var/folders/6v/c_tj3qkn27j7hp8kcrrn95080000gn/T/ipykernel_28362/588955016.py:27: FutureWarning: The frame.append method is deprecated and will be removed from pandas in a future version. Use pandas.concat instead.\n",
      "  df_test = df_test.append(df_ttest, ignore_index=True)\n",
      "/var/folders/6v/c_tj3qkn27j7hp8kcrrn95080000gn/T/ipykernel_28362/588955016.py:27: FutureWarning: The frame.append method is deprecated and will be removed from pandas in a future version. Use pandas.concat instead.\n",
      "  df_test = df_test.append(df_ttest, ignore_index=True)\n",
      "/var/folders/6v/c_tj3qkn27j7hp8kcrrn95080000gn/T/ipykernel_28362/588955016.py:27: FutureWarning: The frame.append method is deprecated and will be removed from pandas in a future version. Use pandas.concat instead.\n",
      "  df_test = df_test.append(df_ttest, ignore_index=True)\n",
      "/var/folders/6v/c_tj3qkn27j7hp8kcrrn95080000gn/T/ipykernel_28362/588955016.py:27: FutureWarning: The frame.append method is deprecated and will be removed from pandas in a future version. Use pandas.concat instead.\n",
      "  df_test = df_test.append(df_ttest, ignore_index=True)\n",
      "/var/folders/6v/c_tj3qkn27j7hp8kcrrn95080000gn/T/ipykernel_28362/588955016.py:27: FutureWarning: The frame.append method is deprecated and will be removed from pandas in a future version. Use pandas.concat instead.\n",
      "  df_test = df_test.append(df_ttest, ignore_index=True)\n"
     ]
    }
   ],
   "source": [
    "time_path_learning = r'/Users/samueldittmann/Desktop/Studium/ML in Manufacturing/MLProjekt/ML_Semesterbegleitendes_Projekt/Data/Output/time-domain/Lernsets'\n",
    "time_path_test = r'/Users/samueldittmann/Desktop/Studium/ML in Manufacturing/MLProjekt/ML_Semesterbegleitendes_Projekt/Data/Output/time-domain/Testsets'\n",
    "\n",
    "freq_path_learning = r'/Users/samueldittmann/Desktop/Studium/ML in Manufacturing/MLProjekt/ML_Semesterbegleitendes_Projekt/Data/Output/frequency-domain/Lernsets'\n",
    "freq_path_test = r'/Users/samueldittmann/Desktop/Studium/ML in Manufacturing/MLProjekt/ML_Semesterbegleitendes_Projekt/Data/Output/frequency-domain/Testset'\n",
    "\n",
    "csv_files = glob.glob(os.path.join(time_path_learning, '*.csv'))\n",
    "csv_files_test = glob.glob(os.path.join(time_path_test, '*.csv'))\n",
    "\n",
    "df_combined = pd.DataFrame()\n",
    "df_test = pd.DataFrame()\n",
    "\n",
    "#Lernset\n",
    "for f in csv_files:\n",
    "    df = pd.read_csv(f)\n",
    "    df['bearing'] = f.split('/')[-1].split('_')[0]+'-'+f.split('/')[-1].split('_')[1]\n",
    "    df['index'] = df.index.astype(str)\n",
    "    df_combined = df_combined.append(df, ignore_index=True)\n",
    "\n",
    "df_combined.set_index(['bearing', 'index'], inplace=True)\n",
    "\n",
    "#Testset\n",
    "for f in csv_files_test:\n",
    "    df_ttest = pd.read_csv(f)\n",
    "    df_ttest['bearing'] = f.split('/')[-1].split('_')[0]+'-'+f.split('/')[-1].split('_')[1]\n",
    "    df_ttest['index'] = df_ttest.index.astype(str)\n",
    "    df_test = df_test.append(df_ttest, ignore_index=True)\n",
    "\n",
    "df_test.set_index(['bearing', 'index'], inplace=True)"
   ]
  },
  {
   "cell_type": "code",
   "execution_count": 46,
   "metadata": {},
   "outputs": [
    {
     "name": "stdout",
     "output_type": "stream",
     "text": [
      "Bearing2-1 maxGx : 22.636\n",
      "Bearing3-1 maxGx : 41.297\n",
      "Bearing1-1 maxGx : 48.148\n",
      "Bearing3-2 maxGx : 19.276\n",
      "Bearing2-2 maxGx : 25.092\n",
      "Bearing1-2 maxGx : 17.649\n"
     ]
    }
   ],
   "source": [
    "#Lernset\n",
    "for i in df_combined.index.droplevel('index').unique():\n",
    "    print(i+' maxGx : '+str(max(df_combined[df_combined.index.isin([i], level='bearing')]['abs_max_x'])))"
   ]
  },
  {
   "cell_type": "code",
   "execution_count": 47,
   "metadata": {},
   "outputs": [
    {
     "name": "stdout",
     "output_type": "stream",
     "text": [
      "Bearing2-1 maxGy : 25.195\n",
      "Bearing3-1 maxGy : 21.689\n",
      "Bearing1-1 maxGy : 47.849\n",
      "Bearing3-2 maxGy : 23.715\n",
      "Bearing2-2 maxGy : 38.12\n",
      "Bearing1-2 maxGy : 36.717\n"
     ]
    }
   ],
   "source": [
    "#Lernset\n",
    "for i in df_combined.index.droplevel('index').unique():\n",
    "    print(i+' maxGy : '+str(max(df_combined[df_combined.index.isin([i], level='bearing')]['abs_max_y'])))"
   ]
  },
  {
   "cell_type": "code",
   "execution_count": 54,
   "metadata": {},
   "outputs": [
    {
     "name": "stdout",
     "output_type": "stream",
     "text": [
      "Bearing1-7 maxGx : 3.107\n",
      "Bearing2-6 maxGx : 2.16\n",
      "Bearing2-7 maxGx : 7.832999999999999\n",
      "Bearing1-6 maxGx : 9.275\n",
      "Bearing2-5 maxGx : 6.992000000000001\n",
      "Bearing1-4 maxGx : 20.953000000000003\n",
      "Bearing1-3 maxGx : 21.404\n",
      "Bearing2-3 maxGx : 12.142\n",
      "Bearing1-5 maxGx : 2.694\n",
      "Bearing2-4 maxGx : 6.638999999999999\n",
      "Bearing3-3 maxGx : 2.15\n"
     ]
    }
   ],
   "source": [
    "#Testset\n",
    "for i in df_test.index.droplevel('index').unique():\n",
    "    print(i+' maxGx : '+str(max(df_test[df_test.index.isin([i], level='bearing')]['abs_max_x'])))"
   ]
  },
  {
   "cell_type": "code",
   "execution_count": 56,
   "metadata": {},
   "outputs": [
    {
     "name": "stdout",
     "output_type": "stream",
     "text": [
      "Bearing1-7 maxGy : 4.188\n",
      "Bearing2-6 maxGy : 9.697\n",
      "Bearing2-7 maxGy : 20.966\n",
      "Bearing1-6 maxGy : 20.174\n",
      "Bearing2-5 maxGy : 3.918\n",
      "Bearing1-4 maxGy : 24.243\n",
      "Bearing1-3 maxGy : 25.687\n",
      "Bearing2-3 maxGy : 28.708\n",
      "Bearing1-5 maxGy : 8.692\n",
      "Bearing2-4 maxGy : 4.645\n",
      "Bearing3-3 maxGy : 4.63\n"
     ]
    }
   ],
   "source": [
    "#Testset\n",
    "for i in df_test.index.droplevel('index').unique():\n",
    "    print(i+' maxGy : '+str(max(df_test[df_test.index.isin([i], level='bearing')]['abs_max_y'])))"
   ]
  }
 ],
 "metadata": {
  "interpreter": {
   "hash": "aee8b7b246df8f9039afb4144a1f6fd8d2ca17a180786b69acc140d282b71a49"
  },
  "kernelspec": {
   "display_name": "Python 3.8.10 64-bit",
   "language": "python",
   "name": "python3"
  },
  "language_info": {
   "codemirror_mode": {
    "name": "ipython",
    "version": 3
   },
   "file_extension": ".py",
   "mimetype": "text/x-python",
   "name": "python",
   "nbconvert_exporter": "python",
   "pygments_lexer": "ipython3",
   "version": "3.8.10"
  },
  "orig_nbformat": 4
 },
 "nbformat": 4,
 "nbformat_minor": 2
}
